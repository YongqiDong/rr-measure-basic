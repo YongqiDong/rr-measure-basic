{
 "cells": [
  {
   "cell_type": "code",
   "execution_count": 19,
   "metadata": {},
   "outputs": [],
   "source": [
    "import pandas as pd\n",
    "import os\n",
    "folder = '../journal-full-text'\n",
    "# List all files in the folder with csv\n",
    "journals = [f for f in os.listdir(folder) if f.endswith('.csv')]\n",
    "journal_issn_list = [['TRA','0965-8564'],\n",
    "                     ['TRB','0191-2615'],\n",
    "                     ['TRC','0968-090X'],\n",
    "                     ['TRD','1361-9209'],\n",
    "                     ['TRE','1366-5545'],\n",
    "                     ['TRF','1369-8478'],\n",
    "                     ['TRIP','2590-1982']]\n",
    "journal_issn_df = pd.DataFrame(journal_issn_list, columns=['journal','issn'])"
   ]
  },
  {
   "cell_type": "code",
   "execution_count": 23,
   "metadata": {},
   "outputs": [
    {
     "name": "stdout",
     "output_type": "stream",
     "text": [
      "TRIP:3.82%\n",
      "TRA:4.38%\n",
      "TRB:10.40%\n",
      "TRE:3.83%\n",
      "TRF:1.76%\n",
      "TRC:13.51%\n",
      "TRD:3.88%\n"
     ]
    }
   ],
   "source": [
    "for journal in journals:\n",
    "    # get the journal without the .csv\n",
    "    journal_issn = journal.split('.csv')[0]\n",
    "    journal_folder = os.path.join(folder, journal_issn)\n",
    "    files = os.listdir(journal_folder)\n",
    "    count = 0\n",
    "    for file in files:\n",
    "        # filter the file with .txt\n",
    "        if file.endswith('.txt'):\n",
    "            # read the file\n",
    "            with open(journal_folder + '/' + file, 'r') as f:\n",
    "                text = f.read()\n",
    "                if 'github' in text:\n",
    "                    count += 1\n",
    "    journal_name = journal_issn_df[journal_issn_df['issn'] == journal_issn]['journal'].values[0]\n",
    "    print(f\"{journal_name}:{(count/len(files) * 100):.2f}%\")\n",
    "    # print the journal name in match with the issn"
   ]
  }
 ],
 "metadata": {
  "kernelspec": {
   "display_name": "RR-measure",
   "language": "python",
   "name": "python3"
  },
  "language_info": {
   "codemirror_mode": {
    "name": "ipython",
    "version": 3
   },
   "file_extension": ".py",
   "mimetype": "text/x-python",
   "name": "python",
   "nbconvert_exporter": "python",
   "pygments_lexer": "ipython3",
   "version": "3.10.15"
  }
 },
 "nbformat": 4,
 "nbformat_minor": 2
}
